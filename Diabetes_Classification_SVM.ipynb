{
 "cells": [
  {
   "cell_type": "markdown",
   "id": "f07b448a",
   "metadata": {},
   "source": [
    "# Diabetes Calculator"
   ]
  },
  {
   "cell_type": "markdown",
   "id": "876af267",
   "metadata": {},
   "source": [
    "The diabetes calculator project aims to develop a classification tool utilizing Support Vector Machine (SVM)  to assess the risk  of diabetes in individuals. The calculator will consider various factors to predict the likelihood of developing diabetes in indivuals."
   ]
  },
  {
   "cell_type": "markdown",
   "id": "1d2e7527",
   "metadata": {},
   "source": [
    "# Imports"
   ]
  },
  {
   "cell_type": "code",
   "execution_count": 1,
   "id": "2f5fc050",
   "metadata": {},
   "outputs": [],
   "source": [
    "import numpy as np\n",
    "import pandas as pd\n",
    "import seaborn as sns\n",
    "from sklearn.preprocessing import StandardScaler\n",
    "from sklearn.model_selection import train_test_split\n",
    "from sklearn import svm\n",
    "from sklearn.metrics import confusion_matrix,accuracy_score"
   ]
  },
  {
   "cell_type": "markdown",
   "id": "bcd3a931",
   "metadata": {},
   "source": [
    "# Data Extraction"
   ]
  },
  {
   "cell_type": "code",
   "execution_count": 2,
   "id": "9862c427",
   "metadata": {},
   "outputs": [],
   "source": [
    "df = pd.read_csv('diabetes.csv')"
   ]
  },
  {
   "cell_type": "markdown",
   "id": "6c214ed8",
   "metadata": {},
   "source": [
    "Features of the datset:\n",
    "1. Glucose - Blood glucose level\n",
    "2. BloodPressure - Pressure in the blood\n",
    "3. Insulin - Blood Insulin level\n",
    "4. BMI - Body mass Index\n",
    "5. DiabetesPedigreeFunction - diabetes likelihood depending on the person's age and diabetic family history\n",
    "6. Age - Age of the indivual\n",
    "\n",
    "Outcome - Since it is a Binary classification, the outcome is spilt into boolean as 0 and 1.                                 \n",
    "0 represent the observation has showed negative result which proves the indivual is not diabetic.                           \n",
    "1 represent the observation has showed positive result which proves the indivual is diabetic."
   ]
  },
  {
   "cell_type": "markdown",
   "id": "e5af0615",
   "metadata": {},
   "source": [
    "# Data Analysis"
   ]
  },
  {
   "cell_type": "code",
   "execution_count": 5,
   "id": "94b65dec",
   "metadata": {},
   "outputs": [
    {
     "data": {
      "text/html": [
       "<div>\n",
       "<style scoped>\n",
       "    .dataframe tbody tr th:only-of-type {\n",
       "        vertical-align: middle;\n",
       "    }\n",
       "\n",
       "    .dataframe tbody tr th {\n",
       "        vertical-align: top;\n",
       "    }\n",
       "\n",
       "    .dataframe thead th {\n",
       "        text-align: right;\n",
       "    }\n",
       "</style>\n",
       "<table border=\"1\" class=\"dataframe\">\n",
       "  <thead>\n",
       "    <tr style=\"text-align: right;\">\n",
       "      <th></th>\n",
       "      <th>Glucose</th>\n",
       "      <th>BloodPressure</th>\n",
       "      <th>Insulin</th>\n",
       "      <th>BMI</th>\n",
       "      <th>DiabetesPedigreeFunction</th>\n",
       "      <th>Age</th>\n",
       "      <th>Outcome</th>\n",
       "    </tr>\n",
       "  </thead>\n",
       "  <tbody>\n",
       "    <tr>\n",
       "      <th>0</th>\n",
       "      <td>148</td>\n",
       "      <td>72</td>\n",
       "      <td>0</td>\n",
       "      <td>33.6</td>\n",
       "      <td>0.627</td>\n",
       "      <td>50</td>\n",
       "      <td>1</td>\n",
       "    </tr>\n",
       "    <tr>\n",
       "      <th>1</th>\n",
       "      <td>85</td>\n",
       "      <td>66</td>\n",
       "      <td>0</td>\n",
       "      <td>26.6</td>\n",
       "      <td>0.351</td>\n",
       "      <td>31</td>\n",
       "      <td>0</td>\n",
       "    </tr>\n",
       "    <tr>\n",
       "      <th>2</th>\n",
       "      <td>183</td>\n",
       "      <td>64</td>\n",
       "      <td>0</td>\n",
       "      <td>23.3</td>\n",
       "      <td>0.672</td>\n",
       "      <td>32</td>\n",
       "      <td>1</td>\n",
       "    </tr>\n",
       "    <tr>\n",
       "      <th>3</th>\n",
       "      <td>89</td>\n",
       "      <td>66</td>\n",
       "      <td>94</td>\n",
       "      <td>28.1</td>\n",
       "      <td>0.167</td>\n",
       "      <td>21</td>\n",
       "      <td>0</td>\n",
       "    </tr>\n",
       "    <tr>\n",
       "      <th>4</th>\n",
       "      <td>137</td>\n",
       "      <td>40</td>\n",
       "      <td>168</td>\n",
       "      <td>43.1</td>\n",
       "      <td>2.288</td>\n",
       "      <td>33</td>\n",
       "      <td>1</td>\n",
       "    </tr>\n",
       "  </tbody>\n",
       "</table>\n",
       "</div>"
      ],
      "text/plain": [
       "   Glucose  BloodPressure  Insulin   BMI  DiabetesPedigreeFunction  Age  \\\n",
       "0      148             72        0  33.6                     0.627   50   \n",
       "1       85             66        0  26.6                     0.351   31   \n",
       "2      183             64        0  23.3                     0.672   32   \n",
       "3       89             66       94  28.1                     0.167   21   \n",
       "4      137             40      168  43.1                     2.288   33   \n",
       "\n",
       "   Outcome  \n",
       "0        1  \n",
       "1        0  \n",
       "2        1  \n",
       "3        0  \n",
       "4        1  "
      ]
     },
     "execution_count": 5,
     "metadata": {},
     "output_type": "execute_result"
    }
   ],
   "source": [
    "df.head()"
   ]
  },
  {
   "cell_type": "markdown",
   "id": "5b719f1a",
   "metadata": {},
   "source": [
    "Checking the head of the dataset"
   ]
  },
  {
   "cell_type": "code",
   "execution_count": 6,
   "id": "f5b571c0",
   "metadata": {},
   "outputs": [
    {
     "data": {
      "text/html": [
       "<div>\n",
       "<style scoped>\n",
       "    .dataframe tbody tr th:only-of-type {\n",
       "        vertical-align: middle;\n",
       "    }\n",
       "\n",
       "    .dataframe tbody tr th {\n",
       "        vertical-align: top;\n",
       "    }\n",
       "\n",
       "    .dataframe thead th {\n",
       "        text-align: right;\n",
       "    }\n",
       "</style>\n",
       "<table border=\"1\" class=\"dataframe\">\n",
       "  <thead>\n",
       "    <tr style=\"text-align: right;\">\n",
       "      <th></th>\n",
       "      <th>Glucose</th>\n",
       "      <th>BloodPressure</th>\n",
       "      <th>Insulin</th>\n",
       "      <th>BMI</th>\n",
       "      <th>DiabetesPedigreeFunction</th>\n",
       "      <th>Age</th>\n",
       "      <th>Outcome</th>\n",
       "    </tr>\n",
       "  </thead>\n",
       "  <tbody>\n",
       "    <tr>\n",
       "      <th>0</th>\n",
       "      <td>False</td>\n",
       "      <td>False</td>\n",
       "      <td>False</td>\n",
       "      <td>False</td>\n",
       "      <td>False</td>\n",
       "      <td>False</td>\n",
       "      <td>False</td>\n",
       "    </tr>\n",
       "    <tr>\n",
       "      <th>1</th>\n",
       "      <td>False</td>\n",
       "      <td>False</td>\n",
       "      <td>False</td>\n",
       "      <td>False</td>\n",
       "      <td>False</td>\n",
       "      <td>False</td>\n",
       "      <td>False</td>\n",
       "    </tr>\n",
       "    <tr>\n",
       "      <th>2</th>\n",
       "      <td>False</td>\n",
       "      <td>False</td>\n",
       "      <td>False</td>\n",
       "      <td>False</td>\n",
       "      <td>False</td>\n",
       "      <td>False</td>\n",
       "      <td>False</td>\n",
       "    </tr>\n",
       "    <tr>\n",
       "      <th>3</th>\n",
       "      <td>False</td>\n",
       "      <td>False</td>\n",
       "      <td>False</td>\n",
       "      <td>False</td>\n",
       "      <td>False</td>\n",
       "      <td>False</td>\n",
       "      <td>False</td>\n",
       "    </tr>\n",
       "    <tr>\n",
       "      <th>4</th>\n",
       "      <td>False</td>\n",
       "      <td>False</td>\n",
       "      <td>False</td>\n",
       "      <td>False</td>\n",
       "      <td>False</td>\n",
       "      <td>False</td>\n",
       "      <td>False</td>\n",
       "    </tr>\n",
       "    <tr>\n",
       "      <th>...</th>\n",
       "      <td>...</td>\n",
       "      <td>...</td>\n",
       "      <td>...</td>\n",
       "      <td>...</td>\n",
       "      <td>...</td>\n",
       "      <td>...</td>\n",
       "      <td>...</td>\n",
       "    </tr>\n",
       "    <tr>\n",
       "      <th>763</th>\n",
       "      <td>False</td>\n",
       "      <td>False</td>\n",
       "      <td>False</td>\n",
       "      <td>False</td>\n",
       "      <td>False</td>\n",
       "      <td>False</td>\n",
       "      <td>False</td>\n",
       "    </tr>\n",
       "    <tr>\n",
       "      <th>764</th>\n",
       "      <td>False</td>\n",
       "      <td>False</td>\n",
       "      <td>False</td>\n",
       "      <td>False</td>\n",
       "      <td>False</td>\n",
       "      <td>False</td>\n",
       "      <td>False</td>\n",
       "    </tr>\n",
       "    <tr>\n",
       "      <th>765</th>\n",
       "      <td>False</td>\n",
       "      <td>False</td>\n",
       "      <td>False</td>\n",
       "      <td>False</td>\n",
       "      <td>False</td>\n",
       "      <td>False</td>\n",
       "      <td>False</td>\n",
       "    </tr>\n",
       "    <tr>\n",
       "      <th>766</th>\n",
       "      <td>False</td>\n",
       "      <td>False</td>\n",
       "      <td>False</td>\n",
       "      <td>False</td>\n",
       "      <td>False</td>\n",
       "      <td>False</td>\n",
       "      <td>False</td>\n",
       "    </tr>\n",
       "    <tr>\n",
       "      <th>767</th>\n",
       "      <td>False</td>\n",
       "      <td>False</td>\n",
       "      <td>False</td>\n",
       "      <td>False</td>\n",
       "      <td>False</td>\n",
       "      <td>False</td>\n",
       "      <td>False</td>\n",
       "    </tr>\n",
       "  </tbody>\n",
       "</table>\n",
       "<p>768 rows × 7 columns</p>\n",
       "</div>"
      ],
      "text/plain": [
       "     Glucose  BloodPressure  Insulin    BMI  DiabetesPedigreeFunction    Age  \\\n",
       "0      False          False    False  False                     False  False   \n",
       "1      False          False    False  False                     False  False   \n",
       "2      False          False    False  False                     False  False   \n",
       "3      False          False    False  False                     False  False   \n",
       "4      False          False    False  False                     False  False   \n",
       "..       ...            ...      ...    ...                       ...    ...   \n",
       "763    False          False    False  False                     False  False   \n",
       "764    False          False    False  False                     False  False   \n",
       "765    False          False    False  False                     False  False   \n",
       "766    False          False    False  False                     False  False   \n",
       "767    False          False    False  False                     False  False   \n",
       "\n",
       "     Outcome  \n",
       "0      False  \n",
       "1      False  \n",
       "2      False  \n",
       "3      False  \n",
       "4      False  \n",
       "..       ...  \n",
       "763    False  \n",
       "764    False  \n",
       "765    False  \n",
       "766    False  \n",
       "767    False  \n",
       "\n",
       "[768 rows x 7 columns]"
      ]
     },
     "execution_count": 6,
     "metadata": {},
     "output_type": "execute_result"
    }
   ],
   "source": [
    "df.isnull()"
   ]
  },
  {
   "cell_type": "markdown",
   "id": "c4c1c700",
   "metadata": {},
   "source": [
    "Checking for the null values"
   ]
  },
  {
   "cell_type": "code",
   "execution_count": 7,
   "id": "6fd0607e",
   "metadata": {},
   "outputs": [
    {
     "data": {
      "text/plain": [
       "<AxesSubplot:>"
      ]
     },
     "execution_count": 7,
     "metadata": {},
     "output_type": "execute_result"
    },
    {
     "data": {
      "image/png": "[encoded data removed]",
      "text/plain": [
       "<Figure size 640x480 with 2 Axes>"
      ]
     },
     "metadata": {},
     "output_type": "display_data"
    }
   ],
   "source": [
    "sns.heatmap(df.isnull())"
   ]
  },
  {
   "cell_type": "markdown",
   "id": "294201f5",
   "metadata": {},
   "source": [
    "No null values observed from the heatmap"
   ]
  },
  {
   "cell_type": "markdown",
   "id": "aad0048d",
   "metadata": {},
   "source": [
    "# Data Standardization"
   ]
  },
  {
   "cell_type": "markdown",
   "id": "b83a8745",
   "metadata": {},
   "source": [
    "Data Standardization is used to convert the data to a standard format so that the mean and standard deviation of the features would become zero."
   ]
  },
  {
   "cell_type": "code",
   "execution_count": 8,
   "id": "b44eeb69",
   "metadata": {},
   "outputs": [],
   "source": [
    "X = df.drop(['Outcome'],axis=1)\n",
    "y = df['Outcome']"
   ]
  },
  {
   "cell_type": "markdown",
   "id": "a9e36109",
   "metadata": {},
   "source": [
    "    X is the variable which contains all the features of the dataset (independent variable).                                      y is the variable which is the label or outcome (dependent variable)."
   ]
  },
  {
   "cell_type": "code",
   "execution_count": 9,
   "id": "4b00bd28",
   "metadata": {},
   "outputs": [],
   "source": [
    "scaler = StandardScaler()"
   ]
  },
  {
   "cell_type": "markdown",
   "id": "0dabc211",
   "metadata": {},
   "source": [
    "Calling the StandardScaler function"
   ]
  },
  {
   "cell_type": "code",
   "execution_count": 10,
   "id": "8d16948f",
   "metadata": {},
   "outputs": [
    {
     "data": {
      "text/plain": [
       "StandardScaler()"
      ]
     },
     "execution_count": 10,
     "metadata": {},
     "output_type": "execute_result"
    }
   ],
   "source": [
    "scaler.fit(X)"
   ]
  },
  {
   "cell_type": "markdown",
   "id": "27528e4d",
   "metadata": {},
   "source": [
    "Fitting the input features in the Scaler model"
   ]
  },
  {
   "cell_type": "code",
   "execution_count": 11,
   "id": "f8840d39",
   "metadata": {},
   "outputs": [],
   "source": [
    "Std_X = scaler.transform(X)"
   ]
  },
  {
   "cell_type": "markdown",
   "id": "6eb56b6a",
   "metadata": {},
   "source": [
    "Transforming X to the standard form"
   ]
  },
  {
   "cell_type": "code",
   "execution_count": 12,
   "id": "c7dbc8ed",
   "metadata": {},
   "outputs": [
    {
     "data": {
      "text/plain": [
       "array([[ 0.84832379,  0.14964075, -0.69289057,  0.20401277,  0.46849198,\n",
       "         1.4259954 ],\n",
       "       [-1.12339636, -0.16054575, -0.69289057, -0.68442195, -0.36506078,\n",
       "        -0.19067191],\n",
       "       [ 1.94372388, -0.26394125, -0.69289057, -1.10325546,  0.60439732,\n",
       "        -0.10558415],\n",
       "       ...,\n",
       "       [ 0.00330087,  0.14964075,  0.27959377, -0.73518964, -0.68519336,\n",
       "        -0.27575966],\n",
       "       [ 0.1597866 , -0.47073225, -0.69289057, -0.24020459, -0.37110101,\n",
       "         1.17073215],\n",
       "       [-0.8730192 ,  0.04624525, -0.69289057, -0.20212881, -0.47378505,\n",
       "        -0.87137393]])"
      ]
     },
     "execution_count": 12,
     "metadata": {},
     "output_type": "execute_result"
    }
   ],
   "source": [
    "Std_X"
   ]
  },
  {
   "cell_type": "markdown",
   "id": "f004a728",
   "metadata": {},
   "source": [
    "Transformed data is stored in the form of numpy array."
   ]
  },
  {
   "cell_type": "markdown",
   "id": "1aa7e7bd",
   "metadata": {},
   "source": [
    "# SVM Model Training"
   ]
  },
  {
   "cell_type": "code",
   "execution_count": 13,
   "id": "fd752353",
   "metadata": {},
   "outputs": [],
   "source": [
    "classifier = svm.SVC(kernel='linear')"
   ]
  },
  {
   "cell_type": "markdown",
   "id": "6b31330c",
   "metadata": {},
   "source": [
    "Creating Model called classifier with SVM with linear kernel"
   ]
  },
  {
   "cell_type": "code",
   "execution_count": 14,
   "id": "31ddbc6c",
   "metadata": {},
   "outputs": [],
   "source": [
    "X_train, X_test, y_train, y_test = train_test_split(Std_X, y, test_size=0.3, random_state=101)"
   ]
  },
  {
   "cell_type": "markdown",
   "id": "517460ea",
   "metadata": {},
   "source": [
    "Spilting the data into training and test data"
   ]
  },
  {
   "cell_type": "code",
   "execution_count": 15,
   "id": "37d71481",
   "metadata": {},
   "outputs": [
    {
     "data": {
      "text/plain": [
       "SVC(kernel='linear')"
      ]
     },
     "execution_count": 15,
     "metadata": {},
     "output_type": "execute_result"
    }
   ],
   "source": [
    "classifier.fit(X_train,y_train)"
   ]
  },
  {
   "cell_type": "markdown",
   "id": "a93935db",
   "metadata": {},
   "source": [
    "Fitting the training data into the model"
   ]
  },
  {
   "cell_type": "code",
   "execution_count": 16,
   "id": "a44af30e",
   "metadata": {},
   "outputs": [],
   "source": [
    "predictions = classifier.predict(X_test)"
   ]
  },
  {
   "cell_type": "markdown",
   "id": "16133a84",
   "metadata": {},
   "source": [
    "Making predictions for the testing data"
   ]
  },
  {
   "cell_type": "code",
   "execution_count": 17,
   "id": "cfabf474",
   "metadata": {},
   "outputs": [
    {
     "name": "stdout",
     "output_type": "stream",
     "text": [
      "[[136  33]\n",
      " [ 14  48]]\n"
     ]
    }
   ],
   "source": [
    "print(confusion_matrix(predictions,y_test))"
   ]
  },
  {
   "cell_type": "markdown",
   "id": "28effc7a",
   "metadata": {},
   "source": [
    "Confusion matrix shows about 80 percent of the data have been predicted as true positive and true negative."
   ]
  },
  {
   "cell_type": "code",
   "execution_count": 18,
   "id": "8c5f8508",
   "metadata": {},
   "outputs": [
    {
     "name": "stdout",
     "output_type": "stream",
     "text": [
      "0.7965367965367965\n"
     ]
    }
   ],
   "source": [
    "print(accuracy_score(predictions,y_test))"
   ]
  },
  {
   "cell_type": "markdown",
   "id": "94d6a94b",
   "metadata": {},
   "source": [
    "Checking the accuracy"
   ]
  },
  {
   "cell_type": "markdown",
   "id": "b32093ba",
   "metadata": {},
   "source": [
    "# Predicting for 1 person"
   ]
  },
  {
   "cell_type": "code",
   "execution_count": 19,
   "id": "14a2bcfc",
   "metadata": {},
   "outputs": [
    {
     "name": "stdout",
     "output_type": "stream",
     "text": [
      "Glucose level148\n"
     ]
    }
   ],
   "source": [
    "a = input(\"Glucose level\")"
   ]
  },
  {
   "cell_type": "code",
   "execution_count": 20,
   "id": "506b1f0b",
   "metadata": {},
   "outputs": [
    {
     "name": "stdout",
     "output_type": "stream",
     "text": [
      "Blood Pressure72\n"
     ]
    }
   ],
   "source": [
    "b = input(\"Blood Pressure\")"
   ]
  },
  {
   "cell_type": "code",
   "execution_count": 21,
   "id": "976ea77d",
   "metadata": {},
   "outputs": [
    {
     "name": "stdout",
     "output_type": "stream",
     "text": [
      "Insulin0\n"
     ]
    }
   ],
   "source": [
    "c = input(\"Insulin\")"
   ]
  },
  {
   "cell_type": "code",
   "execution_count": 22,
   "id": "a0a5ebf6",
   "metadata": {},
   "outputs": [
    {
     "name": "stdout",
     "output_type": "stream",
     "text": [
      "BMI33\n"
     ]
    }
   ],
   "source": [
    "d = input(\"BMI\")"
   ]
  },
  {
   "cell_type": "code",
   "execution_count": 23,
   "id": "9e4b053e",
   "metadata": {},
   "outputs": [
    {
     "name": "stdout",
     "output_type": "stream",
     "text": [
      "DPF0.7\n"
     ]
    }
   ],
   "source": [
    "e = input(\"DPF\")"
   ]
  },
  {
   "cell_type": "code",
   "execution_count": 24,
   "id": "e5e1c3df",
   "metadata": {},
   "outputs": [
    {
     "name": "stdout",
     "output_type": "stream",
     "text": [
      "Age50\n"
     ]
    }
   ],
   "source": [
    "f = input(\"Age\")"
   ]
  },
  {
   "cell_type": "code",
   "execution_count": 25,
   "id": "8d7a5037",
   "metadata": {},
   "outputs": [],
   "source": [
    "person_x = (a,b,c,d,e,f)"
   ]
  },
  {
   "cell_type": "code",
   "execution_count": 26,
   "id": "9961003a",
   "metadata": {},
   "outputs": [],
   "source": [
    "np_arr_x = np.array(person_x)"
   ]
  },
  {
   "cell_type": "code",
   "execution_count": 27,
   "id": "1e02d034",
   "metadata": {},
   "outputs": [],
   "source": [
    "np_arr_reshaped = np_arr_x.reshape(1,-1)"
   ]
  },
  {
   "cell_type": "code",
   "execution_count": 28,
   "id": "21ebc1d7",
   "metadata": {},
   "outputs": [
    {
     "name": "stderr",
     "output_type": "stream",
     "text": [
      "C:\\Users\\bragh\\anaconda3\\lib\\site-packages\\sklearn\\base.py:450: UserWarning: X does not have valid feature names, but StandardScaler was fitted with feature names\n",
      "  warnings.warn(\n"
     ]
    }
   ],
   "source": [
    "std_data_x = scaler.transform(np_arr_reshaped)"
   ]
  },
  {
   "cell_type": "code",
   "execution_count": 29,
   "id": "513e01b5",
   "metadata": {},
   "outputs": [
    {
     "data": {
      "text/plain": [
       "array([[ 0.84832379,  0.14964075, -0.69289057,  0.12786122,  0.68896064,\n",
       "         1.4259954 ]])"
      ]
     },
     "execution_count": 29,
     "metadata": {},
     "output_type": "execute_result"
    }
   ],
   "source": [
    "std_data_x"
   ]
  },
  {
   "cell_type": "code",
   "execution_count": 30,
   "id": "cad0936d",
   "metadata": {},
   "outputs": [],
   "source": [
    "prediction_x = classifier.predict(std_data_x)"
   ]
  },
  {
   "cell_type": "code",
   "execution_count": 31,
   "id": "0deaed93",
   "metadata": {},
   "outputs": [
    {
     "data": {
      "text/plain": [
       "array([1], dtype=int64)"
      ]
     },
     "execution_count": 31,
     "metadata": {},
     "output_type": "execute_result"
    }
   ],
   "source": [
    "prediction_x"
   ]
  },
  {
   "cell_type": "code",
   "execution_count": 32,
   "id": "871ef651",
   "metadata": {},
   "outputs": [],
   "source": [
    "output = prediction_x[0]"
   ]
  },
  {
   "cell_type": "code",
   "execution_count": 34,
   "id": "b496ca52",
   "metadata": {},
   "outputs": [
    {
     "name": "stdout",
     "output_type": "stream",
     "text": [
      "You have Diabetes\n"
     ]
    }
   ],
   "source": [
    "if output==1:\n",
    "    print(\"You have Diabetes\")\n",
    "else:\n",
    "    print(\"You doesn't have Diabetes\")"
   ]
  }
 ],
 "metadata": {
  "kernelspec": {
   "display_name": "Python 3 (ipykernel)",
   "language": "python",
   "name": "python3"
  },
  "language_info": {
   "codemirror_mode": {
    "name": "ipython",
    "version": 3
   },
   "file_extension": ".py",
   "mimetype": "text/x-python",
   "name": "python",
   "nbconvert_exporter": "python",
   "pygments_lexer": "ipython3",
   "version": "3.9.13"
  }
 },
 "nbformat": 4,
 "nbformat_minor": 5
}
